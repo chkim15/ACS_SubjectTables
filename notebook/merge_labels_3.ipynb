{
 "cells": [
  {
   "cell_type": "markdown",
   "id": "f4483484",
   "metadata": {},
   "source": [
    "### Import 'match_year_year+1.xlsx' data where 'flag' is not 0 and save it as 'df_year_year+1' DataFrame"
   ]
  },
  {
   "cell_type": "code",
   "execution_count": 1,
   "id": "3f468ada",
   "metadata": {},
   "outputs": [],
   "source": [
    "import pandas as pd\n",
    "\n",
    "years = range(2015, 2022)\n",
    "\n",
    "for year in years:\n",
    "\n",
    "    # File paths for the year1 and year2 matched data\n",
    "    file_path = f'../YtoY_diff/match_{year}_{year+1}.xlsx'\n",
    "\n",
    "    # Read the files into dataframes\n",
    "    df = pd.read_excel(file_path)\n",
    "\n",
    "    # Filter the data based on the condition where 'flag' column is not equal to 0\n",
    "    globals()[f\"df_{year}_{year+1}\"] = df[df['flag'] != 0][[f'{year}_ID', f'{year+1}_ID']]"
   ]
  },
  {
   "cell_type": "markdown",
   "id": "7e91346c",
   "metadata": {},
   "source": [
    "### Inner-join all 'df_year_year+1' DataFrame on IDs"
   ]
  },
  {
   "cell_type": "code",
   "execution_count": 2,
   "id": "f7851dbf",
   "metadata": {},
   "outputs": [],
   "source": [
    "years = range(2015, 2022)\n",
    "df_names = []\n",
    "\n",
    "for year in years:\n",
    "\n",
    "    # Define the list of dataframe names\n",
    "    df_names.append(f'df_{year}_{year+1}')\n",
    "\n",
    "# Initialize the combined dataframe with the first dataframe\n",
    "combined_df = globals()[df_names[0]]\n",
    "\n",
    "# Iterate over the pairs of dataframes and perform the join operation\n",
    "for df_name in df_names[1:]:\n",
    "    # Get the dataframe for the current iteration\n",
    "    current_df = globals()[df_name]\n",
    "    \n",
    "    # Determine the common column between the current dataframe and the combined dataframe\n",
    "    common_column = list(set(combined_df.columns) & set(current_df.columns))[0]\n",
    "    \n",
    "    # Perform the join operation\n",
    "    combined_df = pd.merge(combined_df, current_df, on=common_column, how='inner')"
   ]
  },
  {
   "cell_type": "code",
   "execution_count": 3,
   "id": "ca68c2a6",
   "metadata": {},
   "outputs": [],
   "source": [
    "combined_df.to_excel('../YtoY_diff/combined_data.xlsx', index=False)"
   ]
  },
  {
   "cell_type": "markdown",
   "id": "36afa97f",
   "metadata": {},
   "source": [
    "### Duplicate every row and replace 'E' with 'M'  \n",
    "#### (Metadata only contains 'E', so this is done to be able to match easily with raw data)"
   ]
  },
  {
   "cell_type": "code",
   "execution_count": 4,
   "id": "0fd2e0e7",
   "metadata": {},
   "outputs": [],
   "source": [
    "# Create a new DataFrame to hold the modified data with M + E\n",
    "modified_df = pd.DataFrame()\n",
    "\n",
    "for column in combined_df.columns:\n",
    "    # Extract the column name and IDs\n",
    "    ids = combined_df[column].tolist()\n",
    "    \n",
    "    # Duplicate the IDs, replacing 'E' with 'M'\n",
    "    modified_ids = [i[:-1] + 'M' for i in ids]\n",
    "    \n",
    "    # Combine original and modified IDs in a single list, interweaving them\n",
    "    combined_ids = [val for pair in zip(ids, modified_ids) for val in pair]\n",
    "    \n",
    "    # Add the combined IDs to the new DataFrame\n",
    "    modified_df[column] = combined_ids\n",
    "\n",
    "# Display the first few rows of the modified DataFrame to verify changes\n",
    "modified_df.to_csv('combined_id_E_M.csv', index=False)"
   ]
  },
  {
   "cell_type": "code",
   "execution_count": null,
   "id": "52af91fd",
   "metadata": {},
   "outputs": [],
   "source": []
  }
 ],
 "metadata": {
  "kernelspec": {
   "display_name": "Python 3 (ipykernel)",
   "language": "python",
   "name": "python3"
  },
  "language_info": {
   "codemirror_mode": {
    "name": "ipython",
    "version": 3
   },
   "file_extension": ".py",
   "mimetype": "text/x-python",
   "name": "python",
   "nbconvert_exporter": "python",
   "pygments_lexer": "ipython3",
   "version": "3.9.13"
  },
  "widgets": {
   "application/vnd.jupyter.widget-state+json": {
    "state": {},
    "version_major": 2,
    "version_minor": 0
   }
  }
 },
 "nbformat": 4,
 "nbformat_minor": 5
}
