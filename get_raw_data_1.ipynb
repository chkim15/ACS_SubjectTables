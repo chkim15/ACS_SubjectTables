{
 "cells": [
  {
   "cell_type": "markdown",
   "id": "e8ad2d93",
   "metadata": {},
   "source": [
    "### How to get raw data of all subject tables using API\n",
    "* Note: Remote host may disconnect you in the middle. You may need to run it again from that point"
   ]
  },
  {
   "cell_type": "code",
   "execution_count": null,
   "id": "f5a7070b",
   "metadata": {},
   "outputs": [],
   "source": [
    "import requests\n",
    "import pandas as pd\n",
    "import time\n",
    "\n",
    "# List of all tables names available in subject tables\n",
    "df_tables = pd.read_csv('all_subject_tables.csv')\n",
    "\n",
    "years = range(2013, 2022)\n",
    "\n",
    "for year in years:\n",
    "    for table in df_tables['Table']:\n",
    "        attempts = 0\n",
    "        max_attempts = 5  # Maximum number of retries\n",
    "        wait_seconds = 1  # Initial wait time between retries, can be increased after each attempt\n",
    "        success = False\n",
    "\n",
    "        while not success and attempts < max_attempts:\n",
    "            try:\n",
    "                # API URL\n",
    "                url = f\"https://api.census.gov/data/{year}/acs/acs5/subject?get=NAME,group({table})&for=zip%20code%20tabulation%20area:*\"\n",
    "\n",
    "                # Make the API request\n",
    "                response = requests.get(url)\n",
    "\n",
    "                # Check if the request was successful\n",
    "                if response.status_code == 200:\n",
    "                    # Convert response to JSON\n",
    "                    data_json = response.json()\n",
    "\n",
    "                    # Extract column names (first element) and data (the rest)\n",
    "                    column_names = data_json[0]\n",
    "                    data = data_json[1:]\n",
    "\n",
    "                    df = pd.DataFrame(data, columns=column_names)\n",
    "\n",
    "                    # Exclude columns containing 'EA' or 'MA'\n",
    "                    columns_to_exclude = df.filter(regex='(EA|MA)').columns\n",
    "\n",
    "                    # Drop these columns from the DataFrame\n",
    "                    df_cleaned = df.drop(columns=columns_to_exclude)\n",
    "\n",
    "                    # Save the DataFrame to an Excel file\n",
    "                    output_file = f\"../Raw_Data/ACS-{table}-{year}-Data.csv\"\n",
    "                    df_cleaned.to_csv(output_file, index=False)\n",
    "                    success = True\n",
    "                else:\n",
    "                    print(f\"Failed to retrieve data. Status code: {response.status_code}\")\n",
    "                    print(table)\n",
    "                    break  # Exit the retry loop if the response is unsuccessful\n",
    "\n",
    "            except requests.exceptions.ChunkedEncodingError as e:\n",
    "                print(f\"Connection error for table {table}, year {year}: {e}, attempting retry {attempts + 1}\")\n",
    "                time.sleep(wait_seconds)\n",
    "                attempts += 1\n",
    "                wait_seconds *= 2  # Implement exponential backoff\n",
    "\n",
    "        if not success:\n",
    "            print(f\"Failed to process table {table}, year {year} after {max_attempts} attempts.\")\n"
   ]
  },
  {
   "cell_type": "markdown",
   "id": "bbb23edc",
   "metadata": {},
   "source": [
    "### The following is to get 'type' information of each variable"
   ]
  },
  {
   "cell_type": "code",
   "execution_count": null,
   "id": "4ceb6b85",
   "metadata": {},
   "outputs": [],
   "source": [
    "import json\n",
    "\n",
    "years = range(2015, 2023)\n",
    "\n",
    "for year in years:\n",
    "\n",
    "    # URL of the webpage to fetch\n",
    "    url = f\"https://api.census.gov/data/{year}/acs/acs5/subject/variables.json\"\n",
    "\n",
    "    # Use the requests library to fetch the content of the URL\n",
    "    response = requests.get(url)\n",
    "\n",
    "    # Check if the request was successful\n",
    "    if response.status_code == 200:\n",
    "        # The content is already in JSON format, so parse it\n",
    "        data = response.json()\n",
    "\n",
    "        # Define the filename where you want to save the JSON data\n",
    "        filename = f\"../Metadata/{year}-type.json\"\n",
    "\n",
    "        # Open a file in write mode and save the JSON data\n",
    "        with open(filename, 'w') as file:\n",
    "            json.dump(data, file, indent=4)\n",
    "\n",
    "    else:\n",
    "        print(\"Failed to fetch the webpage\")"
   ]
  },
  {
   "cell_type": "markdown",
   "id": "a6d11797",
   "metadata": {},
   "source": [
    "### Adding variable types (float or int) to metadata"
   ]
  },
  {
   "cell_type": "code",
   "execution_count": null,
   "id": "0a612c3f",
   "metadata": {},
   "outputs": [],
   "source": [
    "# Add type (float or int) to metadata so that different types don't merge together\n",
    "years = range(2015, 2023)\n",
    "\n",
    "for year in years:\n",
    "\n",
    "    df = pd.read_csv(f'../Metadata/ACS-ST5Y{year}-Metadata.csv')\n",
    "\n",
    "    with open(f'../Metadata/{year}-type.json', 'r') as f:\n",
    "         json_data = json.load(f)\n",
    "\n",
    "    def extract_predicate_type(name_id, json_lookup):\n",
    "        # Directly access the 'variables' key in the JSON lookup\n",
    "        variables = json_lookup.get('variables', {})\n",
    "        return variables.get(name_id, {}).get('predicateType', 'Unknown')\n",
    "\n",
    "    # Apply the corrected function to the DataFrame\n",
    "    df['type'] = df['name'].apply(extract_predicate_type, json_lookup=json_data)  \n",
    "    df.to_csv(f'../Metadata/ACS-ST5Y{year}-Metadata-type.csv', index=False)"
   ]
  }
 ],
 "metadata": {
  "kernelspec": {
   "display_name": "Python 3 (ipykernel)",
   "language": "python",
   "name": "python3"
  },
  "language_info": {
   "codemirror_mode": {
    "name": "ipython",
    "version": 3
   },
   "file_extension": ".py",
   "mimetype": "text/x-python",
   "name": "python",
   "nbconvert_exporter": "python",
   "pygments_lexer": "ipython3",
   "version": "3.9.13"
  }
 },
 "nbformat": 4,
 "nbformat_minor": 5
}
