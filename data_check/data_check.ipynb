{
 "cells": [
  {
   "cell_type": "code",
   "execution_count": 3,
   "metadata": {},
   "outputs": [],
   "source": [
    "import pandas as pd\n",
    "\n",
    "final_df = pd.read_csv('../final_tables_merged.csv')\n",
    "\n",
    "# Initialize an empty DataFrame to store the summary for all files\n",
    "master_df = pd.DataFrame(columns=['Table', 'ID', 'Null Values'])\n",
    "\n",
    "for table in final_df['Table']:\n",
    "    file_path = f'../../Merged_Data/Merged_{table}.csv'  # Construct file path\n",
    "    data = pd.read_csv(file_path)  # Load the CSV file\n",
    "    \n",
    "    # Ignore the first two columns\n",
    "    data_to_analyze = data.iloc[:, 2:]\n",
    "    \n",
    "    # Dictionary for negative or empty counts for the current file\n",
    "    negative_or_empty_counts = {\n",
    "        column: (data_to_analyze[column] < 0).sum() + data_to_analyze[column].isna().sum()\n",
    "        for column in data_to_analyze.columns\n",
    "    }\n",
    "    \n",
    "    # Convert to DataFrame for the current file\n",
    "    current_df = pd.DataFrame(list(negative_or_empty_counts.items()), columns=['ID', 'Null Values'])\n",
    "    current_df['Table'] = table  # Add table name to each row\n",
    "    \n",
    "    # Append to the master DataFrame\n",
    "    master_df = pd.concat([master_df, current_df], ignore_index=True)\n",
    "\n",
    "master_df.to_csv('check_null_values.csv', index=False)\n"
   ]
  },
  {
   "cell_type": "code",
   "execution_count": 6,
   "metadata": {},
   "outputs": [],
   "source": [
    "# import pandas as pd\n",
    "\n",
    "# # Load the Excel file\n",
    "# file_path = 'test.xlsx'\n",
    "# df = pd.read_excel(file_path)\n",
    "\n",
    "\n",
    "# # Step 1: Identify unique overlaps\n",
    "# overlapping_values = set(df['2022_ID']).intersection(set(df['name']))\n",
    "\n",
    "# # Step 2: Filter df where 'name' is in overlapping values and select the relevant columns\n",
    "# final_overlap_df = df[df['name'].isin(overlapping_values)][['name', 'type']].drop_duplicates()\n",
    "\n",
    "# # Since 'name' column has the overlapping values, we align 'type' with it as requested\n",
    "# final_overlap_df.reset_index(drop=True, inplace=True)\n",
    "\n",
    "# final_overlap_df.to_excel('merged_type.xlsx', index=False)\n"
   ]
  },
  {
   "cell_type": "code",
   "execution_count": 5,
   "metadata": {},
   "outputs": [],
   "source": [
    "import pandas as pd\n",
    "\n",
    "# Re-load the Excel file in case it's different from the first one uploaded\n",
    "df = pd.read_excel('id_type.xlsx')\n",
    "\n",
    "# Create duplicates of the DataFrame with modified 'name' column\n",
    "duplicate_df = df.copy()\n",
    "\n",
    "# Replace 'E' with 'M' in the 'name' column for the duplicate DataFrame\n",
    "duplicate_df['name'] = duplicate_df['name'].str.replace('E$', 'M', regex=True)\n",
    "\n",
    "# Concatenate the original and duplicate DataFrames to have them in one DataFrame\n",
    "concatenated_df = pd.concat([df, duplicate_df], ignore_index=True)\n",
    "\n",
    "\n",
    "\n",
    "# Load the CSV file to examine its structure\n",
    "check_null_values_df = pd.read_csv('check_null_values.csv')\n",
    "\n",
    "# Map 'type' from concatenated_df to check_null_values_df based on matching 'ID' to 'name'\n",
    "# Create a mapping of 'name' to 'type' from concatenated_df\n",
    "type_mapping = concatenated_df.set_index('name')['type'].to_dict()\n",
    "\n",
    "# Map 'type' to check_null_values_df using the 'ID' column\n",
    "check_null_values_df['type'] = check_null_values_df['ID'].map(type_mapping)\n",
    "\n",
    "# Define the save path for the updated CSV file\n",
    "save_path = 'updated_check_null_values.csv'\n",
    "\n",
    "# Save the updated DataFrame to a new CSV file\n",
    "check_null_values_df.to_csv(save_path, index=False)\n",
    "\n",
    "\n"
   ]
  },
  {
   "cell_type": "code",
   "execution_count": null,
   "metadata": {},
   "outputs": [],
   "source": []
  }
 ],
 "metadata": {
  "kernelspec": {
   "display_name": "base",
   "language": "python",
   "name": "python3"
  },
  "language_info": {
   "codemirror_mode": {
    "name": "ipython",
    "version": 3
   },
   "file_extension": ".py",
   "mimetype": "text/x-python",
   "name": "python",
   "nbconvert_exporter": "python",
   "pygments_lexer": "ipython3",
   "version": "3.9.13"
  }
 },
 "nbformat": 4,
 "nbformat_minor": 2
}
